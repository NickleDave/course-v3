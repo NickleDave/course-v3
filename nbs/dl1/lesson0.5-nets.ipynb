{
 "cells": [
  {
   "cell_type": "markdown",
   "metadata": {},
   "source": [
    "# lesson 0.5: introduction to neural networks"
   ]
  },
  {
   "cell_type": "markdown",
   "metadata": {},
   "source": [
    "Objectives:\n",
    "  - explain what **neural network** means in the context of machine learning\n",
    "  - describe at a high level how neural networks are trained\n",
    "  - relate neural networks to function approximation\n",
    "  - name some neural network models commonly used in applied settings"
   ]
  },
  {
   "cell_type": "markdown",
   "metadata": {},
   "source": [
    "## what do machine learning researchers mean by \"neural network\"?\n",
    "+ a mathematical model that computes functions in a way that resembles, at a very high level, how we think networks of neurons communicate in the brain\n",
    "\n",
    "### an example neural network\n",
    "\n",
    "![net](./images/lesson-0.5/net.gif)\n",
    "\n",
    "+ takes as *input* a *vector* $x$ which activates *artificial neurons* in each of its *fully-connected layers* in a *feedforward* way to produce as *output* another vector $y$\n",
    "  - **input**: e.g., an image, flattened to make it into a vector\n",
    "  - **artificial neurons**: have an **activation** as explained below\n",
    "  - **layer**: unit of a network, made up of neurons, each of which takes input from neurons in the previous layer and are connected to neurons in the next layer\n",
    "    + e.g., hidden layers, input layer, output layer\n",
    "  - **fully-connected**: any neuron $m_i$ in layer $m$ connects to every neuron $n_j$ in layer $n$\n",
    "  - **output**: e.g., length $n$ vector of probabilities that input is an image of some class $n_i$\n",
    "  - **feedforward**: information only moves in one direction in this network, from the input to the output. There are no connections that let information flow backwards."
   ]
  },
  {
   "cell_type": "markdown",
   "metadata": {},
   "source": [
    "### artificial neurons\n",
    "![neuron](./images/lesson-0.5/artificial-neuron.jpeg)\n",
    "image from <https://dzone.com/articles/the-artificial-neural-networks-handbook-part-4>\n",
    "  + a typical artificial neuron computes a function $y = g(x)$ that can be broken down into two parts \n",
    "    - (1) the dot product of the inputs $x_i$ and the weights\n",
    "    - (2) a non-linear activation function\n",
    "  + \n",
    "  \n",
    "**The weights are what we change during learning!** I.e., they are the parameters of our model that we optimize."
   ]
  },
  {
   "cell_type": "markdown",
   "metadata": {},
   "source": [
    "## how are neural networks trained?\n",
    "- typically, using **stochastic gradient descent** (SGD) in combination with **backpropagation**\n",
    "  + stochastic gradient descent:\n",
    "    + as with other machine learning algorithms, we create a loss function and then \n",
    "      optimize our model by minimizing that loss function\n",
    "      - large datasets make it expensive to compute loss on the whole dataset\n",
    "      - models with many parameters make it impossible to analytically compute gradient\n",
    "    + so instead, we approximate the gradient with one sample or a batch of samples from our training set\n",
    "  + backpropagation:\n",
    "    - essentially, running the loss \"backward\" through the network to find how much each weight attributed to the error\n",
    "    - mathematically speaking, the chain rule\n",
    "    - in practice, done with **automatic differentation**"
   ]
  },
  {
   "cell_type": "markdown",
   "metadata": {},
   "source": [
    "## neural networks commonly used in applied settings\n",
    "\n",
    "### *convolutional* neural networks\n",
    "![convnet](./images/lesson-0.5/convnet.gif)\n",
    "\n",
    "First sign that neural networks would become state of the art in computer vision was when a convolutional neural network, commonly referred to as AlexNet, achieved highest accuracy on the ImageNet dataset in 2012. The layer types used in AlexNet are still common in state-of-the-art CNNs.\n",
    "![alexnet](./images/lesson-0.5/AlexNet-Architecture.png)\n",
    "\n",
    "### *recurrent* neural networks\n"
   ]
  },
  {
   "cell_type": "code",
   "execution_count": null,
   "metadata": {},
   "outputs": [],
   "source": []
  }
 ],
 "metadata": {
  "kernelspec": {
   "display_name": "Python 3",
   "language": "python",
   "name": "python3"
  },
  "language_info": {
   "codemirror_mode": {
    "name": "ipython",
    "version": 3
   },
   "file_extension": ".py",
   "mimetype": "text/x-python",
   "name": "python",
   "nbconvert_exporter": "python",
   "pygments_lexer": "ipython3",
   "version": "3.6.7"
  }
 },
 "nbformat": 4,
 "nbformat_minor": 4
}
